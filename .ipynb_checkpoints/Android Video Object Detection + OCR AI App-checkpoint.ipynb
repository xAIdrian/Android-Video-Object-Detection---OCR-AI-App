{
 "cells": [
  {
   "cell_type": "code",
   "execution_count": 1,
   "id": "6843e777-473a-4826-b588-d95cb2c086ec",
   "metadata": {},
   "outputs": [
    {
     "name": "stdout",
     "output_type": "stream",
     "text": [
      "Requirement already satisfied: opencv-python in ./venv/lib/python3.11/site-packages (4.8.1.78)\n",
      "Requirement already satisfied: numpy>=1.21.2 in ./venv/lib/python3.11/site-packages (from opencv-python) (1.26.0)\n"
     ]
    }
   ],
   "source": [
    "!pip install opencv-python"
   ]
  },
  {
   "cell_type": "code",
   "execution_count": 2,
   "id": "f03aab4c-fb14-4e77-997c-f179233390f9",
   "metadata": {},
   "outputs": [],
   "source": [
    "import cv2\n",
    "import uuid\n",
    "import os\n",
    "import time"
   ]
  },
  {
   "cell_type": "markdown",
   "id": "4256c6a9-1f33-4481-94c3-a2bb25294897",
   "metadata": {},
   "source": [
    "### define images & setup"
   ]
  },
  {
   "cell_type": "code",
   "execution_count": 3,
   "id": "6715755a-8e49-46d1-8a53-3bec13209a8a",
   "metadata": {},
   "outputs": [],
   "source": [
    "labels = [\n",
    "    'harpoon',\n",
    "    'skull',\n",
    "    'boat',\n",
    "    'submarine',\n",
    "    'dog',\n",
    "    'person',\n",
    "    'shark',\n",
    "    'anchor',\n",
    "    'mine',\n",
    "    'compass',\n",
    "    'treasure,\n",
    "    'n',\n",
    "    'u',\n",
    "    'o',\n",
    "    's',\n",
    "    'b',\n",
    "    'kaboom'\n",
    "]\n",
    "number_imgs = 14"
   ]
  },
  {
   "cell_type": "code",
   "execution_count": 4,
   "id": "2f1d727a-e668-4882-bf8e-a016cfc905f3",
   "metadata": {},
   "outputs": [],
   "source": [
    "IMAGES_PATH = os.path.join('Tensorflow', 'workspace', 'images', 'collectedimages')"
   ]
  },
  {
   "cell_type": "code",
   "execution_count": 5,
   "id": "609a315f-6d96-4834-9104-e883db22af34",
   "metadata": {},
   "outputs": [],
   "source": [
    "if not os.path.exists(IMAGES_PATH):\n",
    "     if os.name == 'posix': #colab / jupyter\n",
    "         !mkdir -p { IMAGES_PATH }\n",
    "     if os.name == 'nt':\n",
    "         !mkdir { IMAGES_PATH } \n",
    "for label in labels:\n",
    "    path = os.path.join(IMAGES_PATH, label)\n",
    "    if not os.path.exists(path):\n",
    "        !mkdir { path }"
   ]
  },
  {
   "cell_type": "markdown",
   "id": "b0862094-9bec-45f3-b953-b6d654f10a9c",
   "metadata": {},
   "source": [
    "### images from video\n"
   ]
  },
  {
   "cell_type": "code",
   "execution_count": 6,
   "id": "2cc2c995-8705-4c86-959b-b2ac3630a8d4",
   "metadata": {},
   "outputs": [
    {
     "name": "stdout",
     "output_type": "stream",
     "text": [
      "Collecting images for harpoon\n",
      "Collecting image 0\n",
      "Collecting image 1\n",
      "Collecting image 2\n",
      "Collecting image 3\n",
      "Collecting image 4\n",
      "Collecting image 5\n",
      "Collecting image 6\n",
      "Collecting image 7\n",
      "Collecting image 8\n",
      "Collecting image 9\n",
      "Collecting image 10\n",
      "Collecting image 11\n",
      "Collecting image 12\n",
      "Collecting image 13\n",
      "Collecting images for skull\n",
      "Collecting image 0\n",
      "Collecting image 1\n",
      "Collecting image 2\n",
      "Collecting image 3\n",
      "Collecting image 4\n",
      "Collecting image 5\n",
      "Collecting image 6\n",
      "Collecting image 7\n",
      "Collecting image 8\n",
      "Collecting image 9\n",
      "Collecting image 10\n",
      "Collecting image 11\n",
      "Collecting image 12\n",
      "Collecting image 13\n",
      "Collecting images for boat\n",
      "Collecting image 0\n",
      "Collecting image 1\n",
      "Collecting image 2\n",
      "Collecting image 3\n",
      "Collecting image 4\n",
      "Collecting image 5\n",
      "Collecting image 6\n",
      "Collecting image 7\n",
      "Collecting image 8\n",
      "Collecting image 9\n",
      "Collecting image 10\n",
      "Collecting image 11\n",
      "Collecting image 12\n",
      "Collecting image 13\n",
      "Collecting images for submarine\n",
      "Collecting image 0\n",
      "Collecting image 1\n",
      "Collecting image 2\n",
      "Collecting image 3\n",
      "Collecting image 4\n",
      "Collecting image 5\n",
      "Collecting image 6\n",
      "Collecting image 7\n",
      "Collecting image 8\n",
      "Collecting image 9\n",
      "Collecting image 10\n",
      "Collecting image 11\n",
      "Collecting image 12\n",
      "Collecting image 13\n",
      "Collecting images for dog\n",
      "Collecting image 0\n",
      "Collecting image 1\n",
      "Collecting image 2\n",
      "Collecting image 3\n",
      "Collecting image 4\n",
      "Collecting image 5\n",
      "Collecting image 6\n",
      "Collecting image 7\n",
      "Collecting image 8\n",
      "Collecting image 9\n",
      "Collecting image 10\n",
      "Collecting image 11\n",
      "Collecting image 12\n",
      "Collecting image 13\n",
      "Collecting images for person\n",
      "Collecting image 0\n",
      "Collecting image 1\n",
      "Collecting image 2\n",
      "Collecting image 3\n",
      "Collecting image 4\n",
      "Collecting image 5\n",
      "Collecting image 6\n",
      "Collecting image 7\n",
      "Collecting image 8\n",
      "Collecting image 9\n",
      "Collecting image 10\n",
      "Collecting image 11\n",
      "Collecting image 12\n",
      "Collecting image 13\n",
      "Collecting images for shark\n",
      "Collecting image 0\n",
      "Collecting image 1\n",
      "Collecting image 2\n",
      "Collecting image 3\n",
      "Collecting image 4\n",
      "Collecting image 5\n",
      "Collecting image 6\n",
      "Collecting image 7\n",
      "Collecting image 8\n",
      "Collecting image 9\n",
      "Collecting image 10\n",
      "Collecting image 11\n",
      "Collecting image 12\n",
      "Collecting image 13\n",
      "Collecting images for anchor\n",
      "Collecting image 0\n",
      "Collecting image 1\n",
      "Collecting image 2\n",
      "Collecting image 3\n",
      "Collecting image 4\n",
      "Collecting image 5\n",
      "Collecting image 6\n",
      "Collecting image 7\n",
      "Collecting image 8\n",
      "Collecting image 9\n",
      "Collecting image 10\n",
      "Collecting image 11\n",
      "Collecting image 12\n",
      "Collecting image 13\n",
      "Collecting images for mine\n",
      "Collecting image 0\n",
      "Collecting image 1\n",
      "Collecting image 2\n",
      "Collecting image 3\n",
      "Collecting image 4\n",
      "Collecting image 5\n",
      "Collecting image 6\n",
      "Collecting image 7\n",
      "Collecting image 8\n",
      "Collecting image 9\n",
      "Collecting image 10\n",
      "Collecting image 11\n",
      "Collecting image 12\n",
      "Collecting image 13\n",
      "Collecting images for compass\n",
      "Collecting image 0\n",
      "Collecting image 1\n",
      "Collecting image 2\n",
      "Collecting image 3\n",
      "Collecting image 4\n",
      "Collecting image 5\n",
      "Collecting image 6\n",
      "Collecting image 7\n",
      "Collecting image 8\n",
      "Collecting image 9\n",
      "Collecting image 10\n",
      "Collecting image 11\n",
      "Collecting image 12\n",
      "Collecting image 13\n"
     ]
    },
    {
     "ename": "NameError",
     "evalue": "name 'cap' is not defined",
     "output_type": "error",
     "traceback": [
      "\u001b[0;31m---------------------------------------------------------------------------\u001b[0m",
      "\u001b[0;31mNameError\u001b[0m                                 Traceback (most recent call last)",
      "Cell \u001b[0;32mIn[6], line 17\u001b[0m\n\u001b[1;32m     15\u001b[0m         \u001b[38;5;28;01mif\u001b[39;00m cv2\u001b[38;5;241m.\u001b[39mwaitKey(\u001b[38;5;241m1\u001b[39m) \u001b[38;5;241m&\u001b[39m \u001b[38;5;241m0xFF\u001b[39m \u001b[38;5;241m==\u001b[39m \u001b[38;5;28mord\u001b[39m(\u001b[38;5;124m'\u001b[39m\u001b[38;5;124mq\u001b[39m\u001b[38;5;124m'\u001b[39m):\n\u001b[1;32m     16\u001b[0m             \u001b[38;5;28;01mbreak\u001b[39;00m\n\u001b[0;32m---> 17\u001b[0m \u001b[43mcap\u001b[49m\u001b[38;5;241m.\u001b[39mrelease()\n\u001b[1;32m     18\u001b[0m cv2\u001b[38;5;241m.\u001b[39mdestroyAllWindows()\n",
      "\u001b[0;31mNameError\u001b[0m: name 'cap' is not defined"
     ]
    }
   ],
   "source": [
    "frame_rate = 100 \n",
    "\n",
    "for label in labels:\n",
    "    video = cv2.VideoCapture(\"./raw_video/The Hunt for Neptune's Gold Diamond $1 sample Reels (short).mp4\")\n",
    "    print('Collecting images for {}'.format(label))\n",
    "    for img_num in range(number_imgs):\n",
    "        print('Collecting image {}'.format(img_num))\n",
    "        ret, frame = video.read()\n",
    "        img_name = os.path.join(IMAGES_PATH,label,label+'.'+'{}.jpg'.format(str(uuid.uuid1())))\n",
    "        cv2.imwrite(img_name, frame)\n",
    "        cv2.imshow('frame', frame)\n",
    "        \n",
    "        video.set(1, video.get(1) + frame_rate)\n",
    "\n",
    "        if cv2.waitKey(1) & 0xFF == ord('q'):\n",
    "            break\n",
    "cap.release()\n",
    "cv2.destroyAllWindows()"
   ]
  },
  {
   "cell_type": "markdown",
   "id": "b9c6765a-5ee4-4518-9be7-a6c659daa68e",
   "metadata": {},
   "source": [
    "### image labelling"
   ]
  },
  {
   "cell_type": "code",
   "execution_count": 7,
   "id": "aaf199f6-3768-40a5-8470-d5947c4312b2",
   "metadata": {},
   "outputs": [
    {
     "name": "stdout",
     "output_type": "stream",
     "text": [
      "Requirement already satisfied: pyqt5 in ./venv/lib/python3.11/site-packages (5.15.9)\n",
      "Requirement already satisfied: lxml in ./venv/lib/python3.11/site-packages (4.9.3)\n",
      "Requirement already satisfied: PyQt5-sip<13,>=12.11 in ./venv/lib/python3.11/site-packages (from pyqt5) (12.12.2)\n",
      "Requirement already satisfied: PyQt5-Qt5>=5.15.2 in ./venv/lib/python3.11/site-packages (from pyqt5) (5.15.2)\n"
     ]
    }
   ],
   "source": [
    "!pip install --upgrade pyqt5 lxml"
   ]
  },
  {
   "cell_type": "code",
   "execution_count": 8,
   "id": "b54bbc75-66a9-4070-929e-daa5bf626b59",
   "metadata": {},
   "outputs": [],
   "source": [
    "LABELIMG_PATH = os.path.join('Tensorflow', 'labelimg')"
   ]
  },
  {
   "cell_type": "code",
   "execution_count": 9,
   "id": "630df6c1-cc68-43f5-93dd-16c2a043614f",
   "metadata": {},
   "outputs": [],
   "source": [
    "if not os.path.exists(LABELIMG_PATH):\n",
    "    !mkdir { LABELIMG_PATH }\n",
    "    !git clone https://github.com/HumanSignal/labelImg.git { LABELIMG_PATH }"
   ]
  },
  {
   "cell_type": "code",
   "execution_count": 10,
   "id": "5ca9e2db-9862-4755-ab52-49a449100698",
   "metadata": {},
   "outputs": [],
   "source": [
    "if not os.path.exists(LABELIMG_PATH):\n",
    "     if os.name == 'posix': #colab / jupyter\n",
    "         !make qt5py3\n",
    "     if os.name == 'nt':\n",
    "         !cd { LABELIMG_PATH } && pyrcc5 -o libs/resources.py resources.qrc"
   ]
  },
  {
   "cell_type": "code",
   "execution_count": null,
   "id": "12a770d1-8810-4a82-a68b-f92a50c665a9",
   "metadata": {},
   "outputs": [
    {
     "name": "stdout",
     "output_type": "stream",
     "text": [
      "Cancel creation.\n",
      "Cancel creation.\n",
      "Image:/Users/millionairemacmillionairemac/Developer/slots_cv_prototype/Tensorflow/workspace/images/collectedimages/compass/compass.35a39152-6354-11ee-bb1f-acde48001122.jpg -> Annotation:/Users/millionairemacmillionairemac/Developer/slots_cv_prototype/Tensorflow/workspace/images/collectedimages/compass/compass.35a39152-6354-11ee-bb1f-acde48001122.xml\n",
      "Cancel creation.\n",
      "Image:/Users/millionairemacmillionairemac/Developer/slots_cv_prototype/Tensorflow/workspace/images/collectedimages/compass/compass.35a39152-6354-11ee-bb1f-acde48001122.jpg -> Annotation:/Users/millionairemacmillionairemac/Developer/slots_cv_prototype/Tensorflow/workspace/images/collectedimages/compass/compass.35a39152-6354-11ee-bb1f-acde48001122.xml\n",
      "Cancel creation.\n",
      "Image:/Users/millionairemacmillionairemac/Developer/slots_cv_prototype/Tensorflow/workspace/images/collectedimages/compass/compass.35a39152-6354-11ee-bb1f-acde48001122.jpg -> Annotation:/Users/millionairemacmillionairemac/Developer/slots_cv_prototype/Tensorflow/workspace/images/collectedimages/compass/compass.35a39152-6354-11ee-bb1f-acde48001122.xml\n",
      "Image:/Users/millionairemacmillionairemac/Developer/slots_cv_prototype/Tensorflow/workspace/images/collectedimages/compass/compass.35a39152-6354-11ee-bb1f-acde48001122.jpg -> Annotation:/Users/millionairemacmillionairemac/Developer/slots_cv_prototype/Tensorflow/workspace/images/collectedimages/compass/compass.35a39152-6354-11ee-bb1f-acde48001122.xml\n",
      "Image:/Users/millionairemacmillionairemac/Developer/slots_cv_prototype/Tensorflow/workspace/images/collectedimages/compass/compass.35aed2f6-6354-11ee-bb1f-acde48001122.jpg -> Annotation:/Users/millionairemacmillionairemac/Developer/slots_cv_prototype/Tensorflow/workspace/images/collectedimages/compass/compass.35aed2f6-6354-11ee-bb1f-acde48001122.xml\n",
      "Cancel creation.\n",
      "Image:/Users/millionairemacmillionairemac/Developer/slots_cv_prototype/Tensorflow/workspace/images/collectedimages/compass/compass.35b76c5e-6354-11ee-bb1f-acde48001122.jpg -> Annotation:/Users/millionairemacmillionairemac/Developer/slots_cv_prototype/Tensorflow/workspace/images/collectedimages/compass/compass.35b76c5e-6354-11ee-bb1f-acde48001122.xml\n",
      "Image:/Users/millionairemacmillionairemac/Developer/slots_cv_prototype/Tensorflow/workspace/images/collectedimages/compass/compass.35c57dda-6354-11ee-bb1f-acde48001122.jpg -> Annotation:/Users/millionairemacmillionairemac/Developer/slots_cv_prototype/Tensorflow/workspace/images/collectedimages/compass/compass.35c57dda-6354-11ee-bb1f-acde48001122.xml\n",
      "Image:/Users/millionairemacmillionairemac/Developer/slots_cv_prototype/Tensorflow/workspace/images/collectedimages/compass/compass.35aed2f6-6354-11ee-bb1f-acde48001122.jpg -> Annotation:/Users/millionairemacmillionairemac/Developer/slots_cv_prototype/Tensorflow/workspace/images/collectedimages/compass/compass.35aed2f6-6354-11ee-bb1f-acde48001122.xml\n",
      "ESC press\n",
      "Cancel creation.\n",
      "Image:/Users/millionairemacmillionairemac/Developer/slots_cv_prototype/Tensorflow/workspace/images/collectedimages/compass/compass.35a39152-6354-11ee-bb1f-acde48001122.jpg -> Annotation:/Users/millionairemacmillionairemac/Developer/slots_cv_prototype/Tensorflow/workspace/images/collectedimages/compass/compass.35a39152-6354-11ee-bb1f-acde48001122.xml\n",
      "Image:/Users/millionairemacmillionairemac/Developer/slots_cv_prototype/Tensorflow/workspace/images/collectedimages/compass/compass.35d0d270-6354-11ee-bb1f-acde48001122.jpg -> Annotation:/Users/millionairemacmillionairemac/Developer/slots_cv_prototype/Tensorflow/workspace/images/collectedimages/compass/compass.35d0d270-6354-11ee-bb1f-acde48001122.xml\n",
      "ESC press\n",
      "Cancel creation.\n",
      "Image:/Users/millionairemacmillionairemac/Developer/slots_cv_prototype/Tensorflow/workspace/images/collectedimages/compass/compass.35d83ede-6354-11ee-bb1f-acde48001122.jpg -> Annotation:/Users/millionairemacmillionairemac/Developer/slots_cv_prototype/Tensorflow/workspace/images/collectedimages/compass/compass.35d83ede-6354-11ee-bb1f-acde48001122.xml\n",
      "Image:/Users/millionairemacmillionairemac/Developer/slots_cv_prototype/Tensorflow/workspace/images/collectedimages/compass/compass.354b759e-6354-11ee-bb1f-acde48001122.jpg -> Annotation:/Users/millionairemacmillionairemac/Developer/slots_cv_prototype/Tensorflow/workspace/images/collectedimages/compass/compass.354b759e-6354-11ee-bb1f-acde48001122.xml\n",
      "Cancel creation.\n",
      "Image:/Users/millionairemacmillionairemac/Developer/slots_cv_prototype/Tensorflow/workspace/images/collectedimages/compass/compass.355ebe24-6354-11ee-bb1f-acde48001122.jpg -> Annotation:/Users/millionairemacmillionairemac/Developer/slots_cv_prototype/Tensorflow/workspace/images/collectedimages/compass/compass.355ebe24-6354-11ee-bb1f-acde48001122.xml\n",
      "Image:/Users/millionairemacmillionairemac/Developer/slots_cv_prototype/Tensorflow/workspace/images/collectedimages/compass/compass.356c7b0e-6354-11ee-bb1f-acde48001122.jpg -> Annotation:/Users/millionairemacmillionairemac/Developer/slots_cv_prototype/Tensorflow/workspace/images/collectedimages/compass/compass.356c7b0e-6354-11ee-bb1f-acde48001122.xml\n",
      "Image:/Users/millionairemacmillionairemac/Developer/slots_cv_prototype/Tensorflow/workspace/images/collectedimages/compass/compass.357df5f0-6354-11ee-bb1f-acde48001122.jpg -> Annotation:/Users/millionairemacmillionairemac/Developer/slots_cv_prototype/Tensorflow/workspace/images/collectedimages/compass/compass.357df5f0-6354-11ee-bb1f-acde48001122.xml\n",
      "Image:/Users/millionairemacmillionairemac/Developer/slots_cv_prototype/Tensorflow/workspace/images/collectedimages/compass/compass.357df5f0-6354-11ee-bb1f-acde48001122.jpg -> Annotation:/Users/millionairemacmillionairemac/Developer/slots_cv_prototype/Tensorflow/workspace/images/collectedimages/compass/compass.357df5f0-6354-11ee-bb1f-acde48001122.xml\n"
     ]
    }
   ],
   "source": [
    "!cd { LABELIMG_PATH } && python labelImg.py"
   ]
  },
  {
   "cell_type": "code",
   "execution_count": null,
   "id": "b8cfd7c4-18fb-40f7-a406-05831693e647",
   "metadata": {},
   "outputs": [],
   "source": []
  }
 ],
 "metadata": {
  "kernelspec": {
   "display_name": "venv",
   "language": "python",
   "name": "venv"
  },
  "language_info": {
   "codemirror_mode": {
    "name": "ipython",
    "version": 3
   },
   "file_extension": ".py",
   "mimetype": "text/x-python",
   "name": "python",
   "nbconvert_exporter": "python",
   "pygments_lexer": "ipython3",
   "version": "3.11.4"
  }
 },
 "nbformat": 4,
 "nbformat_minor": 5
}
