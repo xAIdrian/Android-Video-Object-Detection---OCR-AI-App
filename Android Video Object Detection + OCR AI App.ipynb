{
 "cells": [
  {
   "cell_type": "code",
   "execution_count": 3,
   "id": "6843e777-473a-4826-b588-d95cb2c086ec",
   "metadata": {},
   "outputs": [
    {
     "name": "stdout",
     "output_type": "stream",
     "text": [
      "Requirement already satisfied: opencv-python in ./venv/lib/python3.11/site-packages (4.8.1.78)\n",
      "Requirement already satisfied: numpy>=1.21.2 in ./venv/lib/python3.11/site-packages (from opencv-python) (1.26.0)\n"
     ]
    }
   ],
   "source": [
    "!pip install opencv-python"
   ]
  },
  {
   "cell_type": "code",
   "execution_count": 4,
   "id": "f03aab4c-fb14-4e77-997c-f179233390f9",
   "metadata": {},
   "outputs": [],
   "source": [
    "import cv2\n",
    "import uuid\n",
    "import os\n",
    "import time"
   ]
  },
  {
   "cell_type": "markdown",
   "id": "4256c6a9-1f33-4481-94c3-a2bb25294897",
   "metadata": {},
   "source": [
    "### define images & setup"
   ]
  },
  {
   "cell_type": "code",
   "execution_count": 6,
   "id": "6715755a-8e49-46d1-8a53-3bec13209a8a",
   "metadata": {},
   "outputs": [],
   "source": [
    "labels = [\n",
    "    'harpoon',\n",
    "    'skull',\n",
    "    'boat',\n",
    "    'submarine',\n",
    "    'dog',\n",
    "    'person',\n",
    "    'shark',\n",
    "    'anchor',\n",
    "    'mine',\n",
    "    'compass',\n",
    "    'treasure',\n",
    "    'n',\n",
    "    'u',\n",
    "    'o',\n",
    "    's',\n",
    "    'b',\n",
    "    'kaboom',\n",
    "    'gold'\n",
    "]\n",
    "number_imgs = 14"
   ]
  },
  {
   "cell_type": "code",
   "execution_count": 7,
   "id": "2f1d727a-e668-4882-bf8e-a016cfc905f3",
   "metadata": {},
   "outputs": [],
   "source": [
    "IMAGES_PATH = os.path.join('Tensorflow', 'workspace', 'images', 'collectedimages')"
   ]
  },
  {
   "cell_type": "code",
   "execution_count": 8,
   "id": "609a315f-6d96-4834-9104-e883db22af34",
   "metadata": {},
   "outputs": [],
   "source": [
    "if not os.path.exists(IMAGES_PATH):\n",
    "     if os.name == 'posix': #colab / jupyter\n",
    "         !mkdir -p { IMAGES_PATH }\n",
    "     if os.name == 'nt':\n",
    "         !mkdir { IMAGES_PATH } \n",
    "for label in labels:\n",
    "    path = os.path.join(IMAGES_PATH, label)\n",
    "    if not os.path.exists(path):\n",
    "        !mkdir { path }"
   ]
  },
  {
   "cell_type": "markdown",
   "id": "b0862094-9bec-45f3-b953-b6d654f10a9c",
   "metadata": {},
   "source": [
    "### images from video\n"
   ]
  },
  {
   "cell_type": "code",
   "execution_count": 9,
   "id": "2cc2c995-8705-4c86-959b-b2ac3630a8d4",
   "metadata": {},
   "outputs": [],
   "source": [
    "# frame_rate = 100 \n",
    "\n",
    "# for label in labels:\n",
    "#     video = cv2.VideoCapture(\"./raw_video/The Hunt for Neptune's Gold Diamond $1 sample Reels (short).mp4\")\n",
    "#     print('Collecting images for {}'.format(label))\n",
    "#     for img_num in range(number_imgs):\n",
    "#         print('Collecting image {}'.format(img_num))\n",
    "#         ret, frame = video.read()\n",
    "#         img_name = os.path.join(IMAGES_PATH,label,label+'.'+'{}.jpg'.format(str(uuid.uuid1())))\n",
    "#         cv2.imwrite(img_name, frame)\n",
    "#         cv2.imshow('frame', frame)\n",
    "        \n",
    "#         video.set(1, video.get(1) + frame_rate)\n",
    "\n",
    "#         if cv2.waitKey(1) & 0xFF == ord('q'):\n",
    "#             break\n",
    "# cap.release()\n",
    "# cv2.destroyAllWindows()"
   ]
  },
  {
   "cell_type": "markdown",
   "id": "b9c6765a-5ee4-4518-9be7-a6c659daa68e",
   "metadata": {},
   "source": [
    "### image labelling"
   ]
  },
  {
   "cell_type": "code",
   "execution_count": 10,
   "id": "aaf199f6-3768-40a5-8470-d5947c4312b2",
   "metadata": {},
   "outputs": [
    {
     "name": "stdout",
     "output_type": "stream",
     "text": [
      "Requirement already satisfied: pyqt5 in ./venv/lib/python3.11/site-packages (5.15.9)\n",
      "Requirement already satisfied: lxml in ./venv/lib/python3.11/site-packages (4.9.3)\n",
      "Requirement already satisfied: PyQt5-sip<13,>=12.11 in ./venv/lib/python3.11/site-packages (from pyqt5) (12.12.2)\n",
      "Requirement already satisfied: PyQt5-Qt5>=5.15.2 in ./venv/lib/python3.11/site-packages (from pyqt5) (5.15.2)\n"
     ]
    }
   ],
   "source": [
    "!pip install --upgrade pyqt5 lxml"
   ]
  },
  {
   "cell_type": "code",
   "execution_count": 11,
   "id": "b54bbc75-66a9-4070-929e-daa5bf626b59",
   "metadata": {},
   "outputs": [],
   "source": [
    "LABELIMG_PATH = os.path.join('Tensorflow', 'labelimg')"
   ]
  },
  {
   "cell_type": "code",
   "execution_count": 12,
   "id": "630df6c1-cc68-43f5-93dd-16c2a043614f",
   "metadata": {},
   "outputs": [],
   "source": [
    "if not os.path.exists(LABELIMG_PATH):\n",
    "    !mkdir { LABELIMG_PATH }\n",
    "    !git clone https://github.com/HumanSignal/labelImg.git { LABELIMG_PATH }"
   ]
  },
  {
   "cell_type": "code",
   "execution_count": 13,
   "id": "5ca9e2db-9862-4755-ab52-49a449100698",
   "metadata": {},
   "outputs": [],
   "source": [
    "if not os.path.exists(LABELIMG_PATH):\n",
    "     if os.name == 'posix': #colab / jupyter\n",
    "         !make qt5py3\n",
    "     if os.name == 'nt':\n",
    "         !cd { LABELIMG_PATH } && pyrcc5 -o libs/resources.py resources.qrc"
   ]
  },
  {
   "cell_type": "code",
   "execution_count": 14,
   "id": "12a770d1-8810-4a82-a68b-f92a50c665a9",
   "metadata": {},
   "outputs": [
    {
     "name": "stdout",
     "output_type": "stream",
     "text": [
      "Image:/Users/millionairemacmillionairemac/Developer/slots_cv_prototype/Tensorflow/workspace/images/collectedimages/compass/compass.dbc95a36-634e-11ee-b6fb-acde48001122.jpg -> Annotation:/Users/millionairemacmillionairemac/Developer/slots_cv_prototype/Tensorflow/workspace/images/collectedimages/compass/compass.dbc95a36-634e-11ee-b6fb-acde48001122.xml\n",
      "Image:/Users/millionairemacmillionairemac/Developer/slots_cv_prototype/Tensorflow/workspace/images/collectedimages/compass/compass.dbd35068-634e-11ee-b6fb-acde48001122.jpg -> Annotation:/Users/millionairemacmillionairemac/Developer/slots_cv_prototype/Tensorflow/workspace/images/collectedimages/compass/compass.dbd35068-634e-11ee-b6fb-acde48001122.xml\n",
      "Image:/Users/millionairemacmillionairemac/Developer/slots_cv_prototype/Tensorflow/workspace/images/collectedimages/compass/compass.dbda0638-634e-11ee-b6fb-acde48001122.jpg -> Annotation:/Users/millionairemacmillionairemac/Developer/slots_cv_prototype/Tensorflow/workspace/images/collectedimages/compass/compass.dbda0638-634e-11ee-b6fb-acde48001122.xml\n",
      "Image:/Users/millionairemacmillionairemac/Developer/slots_cv_prototype/Tensorflow/workspace/images/collectedimages/compass/compass.dbe69876-634e-11ee-b6fb-acde48001122.jpg -> Annotation:/Users/millionairemacmillionairemac/Developer/slots_cv_prototype/Tensorflow/workspace/images/collectedimages/compass/compass.dbe69876-634e-11ee-b6fb-acde48001122.xml\n",
      "Image:/Users/millionairemacmillionairemac/Developer/slots_cv_prototype/Tensorflow/workspace/images/collectedimages/compass/compass.dbf0988a-634e-11ee-b6fb-acde48001122.jpg -> Annotation:/Users/millionairemacmillionairemac/Developer/slots_cv_prototype/Tensorflow/workspace/images/collectedimages/compass/compass.dbf0988a-634e-11ee-b6fb-acde48001122.xml\n",
      "Image:/Users/millionairemacmillionairemac/Developer/slots_cv_prototype/Tensorflow/workspace/images/collectedimages/compass/compass.dc0c68bc-634e-11ee-b6fb-acde48001122.jpg -> Annotation:/Users/millionairemacmillionairemac/Developer/slots_cv_prototype/Tensorflow/workspace/images/collectedimages/compass/compass.dc0c68bc-634e-11ee-b6fb-acde48001122.xml\n",
      "Image:/Users/millionairemacmillionairemac/Developer/slots_cv_prototype/Tensorflow/workspace/images/collectedimages/compass/compass.dc2dc750-634e-11ee-b6fb-acde48001122.jpg -> Annotation:/Users/millionairemacmillionairemac/Developer/slots_cv_prototype/Tensorflow/workspace/images/collectedimages/compass/compass.dc2dc750-634e-11ee-b6fb-acde48001122.xml\n",
      "Image:/Users/millionairemacmillionairemac/Developer/slots_cv_prototype/Tensorflow/workspace/images/collectedimages/compass/compass.dc22d53e-634e-11ee-b6fb-acde48001122.jpg -> Annotation:/Users/millionairemacmillionairemac/Developer/slots_cv_prototype/Tensorflow/workspace/images/collectedimages/compass/compass.dc22d53e-634e-11ee-b6fb-acde48001122.xml\n",
      "ESC press\n",
      "Cancel creation.\n",
      "Image:/Users/millionairemacmillionairemac/Developer/slots_cv_prototype/Tensorflow/workspace/images/collectedimages/compass/compass.dc00949c-634e-11ee-b6fb-acde48001122.jpg -> Annotation:/Users/millionairemacmillionairemac/Developer/slots_cv_prototype/Tensorflow/workspace/images/collectedimages/compass/compass.dc00949c-634e-11ee-b6fb-acde48001122.xml\n",
      "Image:/Users/millionairemacmillionairemac/Developer/slots_cv_prototype/Tensorflow/workspace/images/collectedimages/compass/compass.dc15099a-634e-11ee-b6fb-acde48001122.jpg -> Annotation:/Users/millionairemacmillionairemac/Developer/slots_cv_prototype/Tensorflow/workspace/images/collectedimages/compass/compass.dc15099a-634e-11ee-b6fb-acde48001122.xml\n",
      "ESC press\n",
      "Cancel creation.\n",
      "Image:/Users/millionairemacmillionairemac/Developer/slots_cv_prototype/Tensorflow/workspace/images/collectedimages/compass/compass.dc356712-634e-11ee-b6fb-acde48001122.jpg -> Annotation:/Users/millionairemacmillionairemac/Developer/slots_cv_prototype/Tensorflow/workspace/images/collectedimages/compass/compass.dc356712-634e-11ee-b6fb-acde48001122.xml\n",
      "Image:/Users/millionairemacmillionairemac/Developer/slots_cv_prototype/Tensorflow/workspace/images/collectedimages/compass/compass.dc356712-634e-11ee-b6fb-acde48001122.jpg -> Annotation:/Users/millionairemacmillionairemac/Developer/slots_cv_prototype/Tensorflow/workspace/images/collectedimages/compass/compass.dc356712-634e-11ee-b6fb-acde48001122.xml\n",
      "^C\n"
     ]
    }
   ],
   "source": [
    "!cd { LABELIMG_PATH } && python labelImg.py"
   ]
  },
  {
   "cell_type": "markdown",
   "id": "57a30100-6374-4aff-863e-ebb009ad3ba9",
   "metadata": {},
   "source": [
    "### (optional) compress for colab training"
   ]
  },
  {
   "cell_type": "code",
   "execution_count": 17,
   "id": "2211a699-85fb-4b95-b162-5a4843a90c7a",
   "metadata": {},
   "outputs": [],
   "source": [
    "TRAIN_PATH = os.path.join('Tensorflow', 'workspace', 'images', 'train')\n",
    "TEST_PATH = os.path.join('Tensorflow', 'workspace', 'images', 'test')\n",
    "ARCHIVE_PATH = os.path.join('Tensorflow', 'workspace', 'images', 'archive.tar.gz')"
   ]
  },
  {
   "cell_type": "code",
   "execution_count": 20,
   "id": "b30873be-265c-4203-9c0c-6d26ff40f390",
   "metadata": {},
   "outputs": [],
   "source": [
    "if not os.path.exists(TRAIN_PATH):\n",
    "    !mkdir { TRAIN_PATH }\n",
    "if not os.path.exists(TEST_PATH):\n",
    "    !mkdir { TEST_PATH }\n",
    "if not os.path.exists(ARCHIVE_PATH):\n",
    "    !mkdir { ARCHIVE_PATH }"
   ]
  },
  {
   "cell_type": "code",
   "execution_count": 21,
   "id": "18c1dac4-b410-41b8-8475-008e7b8fd723",
   "metadata": {},
   "outputs": [],
   "source": [
    "!tar -czf {ARCHIVE_PATH} {TRAIN_PATH} {TEST_PATH}"
   ]
  },
  {
   "cell_type": "code",
   "execution_count": null,
   "id": "866f6b9a-9244-4123-9a13-18d53555ee67",
   "metadata": {},
   "outputs": [],
   "source": []
  }
 ],
 "metadata": {
  "kernelspec": {
   "display_name": "venv",
   "language": "python",
   "name": "venv"
  },
  "language_info": {
   "codemirror_mode": {
    "name": "ipython",
    "version": 3
   },
   "file_extension": ".py",
   "mimetype": "text/x-python",
   "name": "python",
   "nbconvert_exporter": "python",
   "pygments_lexer": "ipython3",
   "version": "3.11.4"
  }
 },
 "nbformat": 4,
 "nbformat_minor": 5
}
